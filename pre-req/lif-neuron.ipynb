{
 "cells": [
  {
   "cell_type": "code",
   "execution_count": 1,
   "id": "30278b30",
   "metadata": {},
   "outputs": [],
   "source": [
    "import numpy as np\n",
    "import matplotlib.pyplot as plt"
   ]
  },
  {
   "cell_type": "code",
   "execution_count": 2,
   "id": "a06c7cb6",
   "metadata": {},
   "outputs": [
    {
     "name": "stdout",
     "output_type": "stream",
     "text": [
      "0.15 0.001 0.02 -0.06 -0.07 -0.05 100000000.0 2.5e-10\n"
     ]
    }
   ],
   "source": [
    "t_max = 150e-3   # second\n",
    "dt = 1e-3        # second\n",
    "tau = 20e-3      # second\n",
    "el = -60e-3      # milivolt\n",
    "vr = -70e-3      # milivolt\n",
    "vth = -50e-3     # milivolt\n",
    "r = 100e6        # ohm\n",
    "i_mean = 25e-11  # ampere\n",
    "\n",
    "print(t_max, dt, tau, el, vr, vth, r, i_mean)"
   ]
  },
  {
   "cell_type": "code",
   "execution_count": 5,
   "id": "6abe8250",
   "metadata": {},
   "outputs": [
    {
     "name": "stdout",
     "output_type": "stream",
     "text": [
      "0.000 2.5000e-10\n",
      "0.001 3.9695e-10\n",
      "0.002 4.8776e-10\n",
      "0.003 4.8776e-10\n",
      "0.004 3.9695e-10\n",
      "0.005 2.5000e-10\n",
      "0.006 1.0305e-10\n",
      "0.007 1.2236e-11\n",
      "0.008 1.2236e-11\n",
      "0.009 1.0305e-10\n"
     ]
    }
   ],
   "source": [
    "# Loop for 10 steps, variable 'step' takes values from 0 to 9\n",
    "for step in range(10):\n",
    "\n",
    "  # Compute value of t\n",
    "  t = step * dt\n",
    "\n",
    "  # Compute value of i at this time step\n",
    "  i = i_mean * (1 + np.sin(2 * np.pi * 100 * t))\n",
    "\n",
    "  # Print value of i\n",
    "  print(f'{t:.3f} {i:.4e}')"
   ]
  },
  {
   "cell_type": "code",
   "execution_count": 6,
   "id": "5b2dc13d",
   "metadata": {},
   "outputs": [
    {
     "name": "stdout",
     "output_type": "stream",
     "text": [
      "0.000 -5.8750e-02\n",
      "0.001 -5.6828e-02\n",
      "0.002 -5.4548e-02\n",
      "0.003 -5.2381e-02\n",
      "0.004 -5.0778e-02\n",
      "0.005 -4.9989e-02\n",
      "0.006 -4.9974e-02\n",
      "0.007 -5.0414e-02\n",
      "0.008 -5.0832e-02\n",
      "0.009 -5.0775e-02\n"
     ]
    }
   ],
   "source": [
    "#################################################\n",
    "## out compute v code ##\n",
    "#################################################\n",
    "\n",
    "# Initialize step_end and v0\n",
    "step_end = 10\n",
    "v = el\n",
    "\n",
    "# Loop for step_end steps\n",
    "for step in range(step_end):\n",
    "  # Compute value of t\n",
    "  t = step * dt\n",
    "\n",
    "  # Compute value of i at this time step\n",
    "  i = i_mean * (1 + np.sin((t * 2 * np.pi) / 0.01))\n",
    "\n",
    "  # Compute v\n",
    "  v = v + (dt / tau) * (el - v + r * i)\n",
    "\n",
    "  # Print value of t and v\n",
    "  print(f\"{t:.3f} {v:.4e}\")"
   ]
  }
 ],
 "metadata": {
  "kernelspec": {
   "display_name": "Python 3",
   "language": "python",
   "name": "python3"
  },
  "language_info": {
   "codemirror_mode": {
    "name": "ipython",
    "version": 3
   },
   "file_extension": ".py",
   "mimetype": "text/x-python",
   "name": "python",
   "nbconvert_exporter": "python",
   "pygments_lexer": "ipython3",
   "version": "3.13.3"
  }
 },
 "nbformat": 4,
 "nbformat_minor": 5
}
